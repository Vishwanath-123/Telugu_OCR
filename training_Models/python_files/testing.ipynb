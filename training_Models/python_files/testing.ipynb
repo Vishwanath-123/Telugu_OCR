{
 "cells": [
  {
   "cell_type": "code",
   "execution_count": 1,
   "metadata": {},
   "outputs": [],
   "source": [
    "import torch \n",
    "import torch.nn as nn\n",
    "import torch.nn.functional as F\n",
    "import matplotlib.pyplot as plt\n",
    "import numpy as np"
   ]
  },
  {
   "cell_type": "code",
   "execution_count": 6,
   "metadata": {},
   "outputs": [
    {
     "name": "stdout",
     "output_type": "stream",
     "text": [
      "tensor(4.0564e-07, dtype=torch.float64, grad_fn=<MeanBackward0>)\n"
     ]
    }
   ],
   "source": [
    "criterion = nn.CTCLoss(blank=0)\n",
    "\n",
    "target = torch.tensor([5, 6, 1, 7, 4]).unsqueeze(0)  # 1*5\n",
    "input = torch.full((100, 1, 11), -10, dtype=torch.float64)\n",
    "input[0, 0, 5] = 10\n",
    "input[1, 0, 5] = 10 #\n",
    "input[2, 0, 0] = 10 #\n",
    "input[3, 0, 0] = 10 #\n",
    "input[4, 0, 6] = 10\n",
    "input[5, 0, 6] = 10 #\n",
    "input[6, 0, 0] = 10 #\n",
    "input[7, 0, 1] = 10\n",
    "input[8, 0, 1] = 10 #\n",
    "input[9, 0, 0] = 10 #\n",
    "input[10, 0, 7] = 10\n",
    "input[11, 0, 7] = 10 #\n",
    "input[12, 0, 4] = 10\n",
    "input[13:, 0, 0] = 10 #\n",
    "\n",
    "input_lengths = torch.full(size=(1,), fill_value=100, dtype=torch.long)\n",
    "target_lengths = torch.full(size=(1,), fill_value=5, dtype=torch.long)\n",
    "\n",
    "input = input.log_softmax(2).detach().requires_grad_()\n",
    "\n",
    "loss = criterion(input, target, input_lengths, target_lengths)\n",
    "print(loss)"
   ]
  }
 ],
 "metadata": {
  "kernelspec": {
   "display_name": "teluguOCR",
   "language": "python",
   "name": "python3"
  },
  "language_info": {
   "codemirror_mode": {
    "name": "ipython",
    "version": 3
   },
   "file_extension": ".py",
   "mimetype": "text/x-python",
   "name": "python",
   "nbconvert_exporter": "python",
   "pygments_lexer": "ipython3",
   "version": "3.10.13"
  }
 },
 "nbformat": 4,
 "nbformat_minor": 2
}
